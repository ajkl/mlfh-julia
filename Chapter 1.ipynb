{
 "metadata": {
  "kernelspec": {
   "codemirror_mode": {
    "name": "ipython",
    "version": 2
   },
   "display_name": "IPython (Python 2)",
   "language": "python",
   "name": "python2"
  },
  "language": "Julia",
  "name": "",
  "signature": "sha256:b15faf61810066edc0c058de18ce09df146f9d8c8741d2278fcc98acf488b7dc"
 },
 "nbformat": 3,
 "nbformat_minor": 0,
 "worksheets": [
  {
   "cells": [
    {
     "cell_type": "code",
     "collapsed": false,
     "input": [
      "using DataFrames\n",
      "df = DataFrames.readtable(\"data/ufo_awesome.tsv\", separator ='\\t', header=false)"
     ],
     "language": "python",
     "metadata": {},
     "outputs": [
      {
       "ename": "LoadError",
       "evalue": "Saw 9743 rows, 6 columns and 58576 fields\n * Line 1 has 8 columns\n\nwhile loading In[1], in expression starting on line 2",
       "output_type": "pyerr",
       "traceback": [
        "Saw 9743 rows, 6 columns and 58576 fields\n * Line 1 has 8 columns\n\nwhile loading In[1], in expression starting on line 2",
        "",
        " in error at error.jl:21",
        " in findcorruption at /home/juser/.julia/v0.3/DataFrames/src/dataframe/io.jl:715",
        " in readtable! at /home/juser/.julia/v0.3/DataFrames/src/dataframe/io.jl:779",
        " in readtable at /home/juser/.julia/v0.3/DataFrames/src/dataframe/io.jl:868",
        " in readtable at /home/juser/.julia/v0.3/DataFrames/src/dataframe/io.jl:935"
       ]
      }
     ],
     "prompt_number": 1
    },
    {
     "cell_type": "code",
     "collapsed": false,
     "input": [
      "inpath = \"data/ufo_awesome.tsv\"\n",
      "open(inpath, \"r\") do f\n",
      "    i=1\n",
      "    for line in eachline(f)\n",
      "        splitline = split(line, \"\\t\") #does not need escape charater for \\t\n",
      "        if length(splitline) != 6\n",
      "            println(i)\n",
      "        end\n",
      "        i = i + 1\n",
      "    end\n",
      "end"
     ],
     "language": "python",
     "metadata": {},
     "outputs": [
      {
       "output_type": "stream",
       "stream": "stdout",
       "text": [
        "755\n",
        "1167\n",
        "1569\n",
        "1571\n",
        "1659\n",
        "1951\n",
        "2077\n",
        "2382\n",
        "2753\n",
        "3076\n",
        "3218\n",
        "3238\n",
        "3346\n",
        "3453\n",
        "3513\n",
        "3571\n",
        "3632\n",
        "3718\n",
        "3814\n",
        "4607\n",
        "4627\n",
        "4666\n",
        "4996\n",
        "5357\n",
        "5371\n",
        "5531\n",
        "5686\n",
        "5919\n",
        "5927\n",
        "5988\n",
        "6043\n",
        "6296\n",
        "6337\n",
        "6403\n",
        "6646\n",
        "6803\n",
        "6924\n",
        "7341\n",
        "7736\n",
        "7737\n",
        "7834\n",
        "8177\n",
        "8470\n",
        "8539\n",
        "8546\n",
        "8815\n",
        "9014\n",
        "9043\n",
        "9155\n",
        "9350\n",
        "9400\n",
        "9533\n"
       ]
      }
     ],
     "prompt_number": 2
    },
    {
     "cell_type": "code",
     "collapsed": false,
     "input": [
      "inpath = \"data/ufo_awesome.tsv\"\n",
      "outpath = \"data/ufo_awesome_out.tsv\"\n",
      "of = open(outpath, \"w\")\n",
      "open(inpath, \"r\") do f\n",
      "    for line in eachline(f)\n",
      "        splitline = split(line, \"\\t\") #does not need escape charater for \\t\n",
      "        l = length(splitline)\n",
      "        if l < 6\n",
      "            continue\n",
      "        elseif l > 6\n",
      "            write(of, *(splitline[1], \"\\t\", splitline[2], \"\\t\", splitline[3], \"\\t\", splitline[4], \"\\t\", splitline[5], \"\\t\", splitline[6], \"\\n\"))\n",
      "        else\n",
      "            write(of, *(splitline[1], \"\\t\", splitline[2], \"\\t\", splitline[3], \"\\t\", splitline[4], \"\\t\", splitline[5], \"\\t\", splitline[6]))\n",
      "        end\n",
      "    end\n",
      "end\n",
      "close(of)"
     ],
     "language": "python",
     "metadata": {},
     "outputs": [],
     "prompt_number": 3
    },
    {
     "cell_type": "code",
     "collapsed": false,
     "input": [
      "df = DataFrames.readtable(\"data/ufo_awesome_out.tsv\", separator ='\\t', header=false)"
     ],
     "language": "python",
     "metadata": {},
     "outputs": [
      {
       "html": [
        "<table class=\"data-frame\"><tr><th></th><th>x1</th><th>x2</th><th>x3</th><th>x4</th><th>x5</th><th>x6</th></tr><tr><th>1</th><td>19951009</td><td>19951009</td><td>Iowa City, IA</td><td>NA</td><td>NA</td><td>Man repts. witnessing &amp;quot;flash, followed by a classic UFO, w/ a tailfin at back.&amp;quot; Red color on top half of tailfin. Became triangular.</td></tr><tr><th>2</th><td>19951010</td><td>19951011</td><td>Milwaukee, WI</td><td>NA</td><td>2 min.</td><td>Man  on Hwy 43 SW of Milwaukee sees large, bright blue light streak by his car, descend, turn, cross road ahead, strobe. Bizarre!</td></tr><tr><th>3</th><td>19950101</td><td>19950103</td><td>Shelton, WA</td><td>NA</td><td>NA</td><td>Telephoned Report:CA woman visiting daughter witness discs and triangular ships over Squaxin Island in Puget Sound. Dramatic.  Written report, with illustrations, submitted to NUFORC.</td></tr><tr><th>4</th><td>19950510</td><td>19950510</td><td>Columbia, MO</td><td>NA</td><td>2 min.</td><td>Man repts. son&amp;apos;s bizarre sighting of small humanoid creature in back yard.  Reptd. in Acteon Journal, St. Louis UFO newsletter.</td></tr><tr><th>5</th><td>19950611</td><td>19950614</td><td>Seattle, WA</td><td>NA</td><td>NA</td><td>Anonymous caller repts. sighting 4 ufo&amp;apos;s in NNE sky, 45 deg. above horizon.  (No other facts reptd.  No return tel. #.)</td></tr><tr><th>6</th><td>19951025</td><td>19951024</td><td>Brunswick County, ND</td><td>NA</td><td>30 min.</td><td>Sheriff&amp;apos;s office calls to rept. that deputy, 20 mi. SSE of Wilmington,  is looking at peculiar, bright white, strobing light.</td></tr><tr><th>7</th><td>19950420</td><td>19950419</td><td>Fargo, ND</td><td>NA</td><td>2 min.</td><td>Female student w/ friend witness huge red light in sky.  2 others witness.  Obj pulsated, started to flicker.  Winked out.</td></tr><tr><th>8</th><td>19950911</td><td>19950911</td><td>Las Vegas, NV</td><td>NA</td><td>NA</td><td>Man repts. bright, multi-colored obj. in NW night sky. Disappeared while he was in house.</td></tr><tr><th>9</th><td>19950115</td><td>19950214</td><td>Morton, WA</td><td>NA</td><td>NA</td><td>Woman reports 2 craft fly over house.  Strange events taking place in town w/ paramilitary activities.</td></tr><tr><th>10</th><td>19950915</td><td>19950915</td><td>Redmond, WA</td><td>NA</td><td>6 min.</td><td>Young man w/ 2 co-workers witness tiny, distinctly white round disc drifting slowly toward NE.  Flew in dir. 90 deg. to winds.</td></tr><tr><th>11</th><td>19940801</td><td>19950220</td><td>Renton, WA</td><td>NA</td><td>NA</td><td>Man repts. seeing 2x large ships hovering in night sky while using Russian-made night binoculars.</td></tr><tr><th>12</th><td>19950722</td><td>19950724</td><td>Springfield, IL</td><td>NA</td><td>1 min.</td><td>Man &amp;amp; mother report small, glowing, cigar-shaped obj. moving slowly across sky.  Accelerated suddenly, streaked off.</td></tr><tr><th>13</th><td>19950611</td><td>19950612</td><td>Sharon, MA</td><td>NA</td><td>NA</td><td>Man witnessed &amp;quot;tablet shaped obj., like stubby aspirin,&amp;quot; with dull, metallic surface, descend, follow military jets.  Good rept.</td></tr><tr><th>14</th><td>19950821</td><td>19950823</td><td>Laporte, WA</td><td>NA</td><td>5 sec.</td><td>Several children report to their father that they witnessed &amp;quot;red star&amp;quot; streak across sky.</td></tr><tr><th>15</th><td>19950416</td><td>19950416</td><td>Villa Rica, GA</td><td>NA</td><td>NA</td><td>GA Hwy. Patrol dispatch repts. trooper observed advertising blimp for video company in area of prior report.</td></tr><tr><th>16</th><td>19950207</td><td>19950207</td><td>Raymond, WA</td><td>NA</td><td>NA</td><td>Woman witnesses object.  (Facts unclear.)</td></tr><tr><th>17</th><td>19951118</td><td>19951117</td><td>Orlando, FL</td><td>NA</td><td>NA</td><td>Woman repts. bizarre &amp;quot;half circle&amp;quot; obj. in sky to SE.  Projects ray downward!  Something appeared to &amp;quot;fall&amp;quot; from the main object.</td></tr><tr><th>18</th><td>19950610</td><td>19950611</td><td>Glade Spring, VA</td><td>NA</td><td>5 min.</td><td>Woman, children, and grandmother witness 4 bizarre, bright green &amp;quot;stars&amp;quot; hovering nearby.  Suddenly got brighter, streak off.</td></tr><tr><th>19</th><td>19950514</td><td>19950514</td><td>Silver Beach, NY</td><td>NA</td><td>25 min.</td><td>Woman repts. eight people observing very large obj.--1/2 diameter of full moon--visible in western sky.  Moves to south.</td></tr><tr><th>20</th><td>19950204</td><td>19950204</td><td>Lewiston, MT</td><td>NA</td><td>NA</td><td>Man &amp;amp; wife witness bright white light w/ red &amp;amp; blue lights.  Moves slowly.</td></tr><tr><th>21</th><td>19950812</td><td>19950911</td><td>Fort Myers Beach, FL</td><td>NA</td><td>NA</td><td>Woman witnesses &amp;quot;meteor shower&amp;quot; over G. of Mex..  Minutes later, sees very bright light streak overhead at very low altitude.</td></tr><tr><th>22</th><td>19951106</td><td>19951106</td><td>St. Augustine, FL</td><td>NA</td><td>20 sec.</td><td>Anon. rpt. of bizarre obj. that &amp;quot;looked like the Shuttle&amp;quot; moving S to N across sky, 20 deg. in 20 sec.. Visible exhaust plume. Bright.</td></tr><tr><th>23</th><td>19950628</td><td>19950628</td><td>Lisbon, ME</td><td>NA</td><td>NA</td><td>Young man looking out window sees very  bright &amp;quot;star&amp;quot; drifting slowly across sky.  Calls police. Two witnesses.</td></tr><tr><th>24</th><td>19950314</td><td>19950314</td><td>Fontana, CA</td><td>NA</td><td>5 min.</td><td>Nine adults witnessing 6-8 objects moving in western sky.  Shaped like arrow, then square.  Many 911 reports.</td></tr><tr><th>25</th><td>19950306</td><td>19950307</td><td>Hilltop, NJ</td><td>NA</td><td>5 sec.</td><td>Young boy reports seeing oval-shaped object w/ &amp;quot;lots of lights. (Got tel. # from I. Asimov book.)</td></tr><tr><th>26</th><td>19950506</td><td>19950516</td><td>Lebanon, OR</td><td>NA</td><td>NA</td><td>Woman repts. seeing two large, bright objects, like &amp;quot;funnels of light,&amp;quot; in eastern sky from top of Snow Peak.</td></tr><tr><th>27</th><td>19950730</td><td>19950730</td><td>Newtown, CT</td><td>NA</td><td>30 sec.</td><td>Man &amp;amp; wife witness two sightings of an obj. moving across sky very fast.</td></tr><tr><th>28</th><td>19950822</td><td>19950822</td><td>Prescott, AZ</td><td>NA</td><td>2 sec.</td><td>Father &amp;amp; son witness strange obj. streak across sky &amp;quot;in clump of cloud.&amp;quot;  Seconds later, they crest hill, obj. is gone, no clouds vis.</td></tr><tr><th>29</th><td>19950207</td><td>19950207</td><td>Quilcene, WA</td><td>NA</td><td>20 sec</td><td>Bangor Facility empl. witnesses 6 strange lights over Quilcene, WA, on way to work.  20 sec. sighting. Good report.</td></tr><tr><th>30</th><td>19950909</td><td>19950910</td><td>Silverdale, WA</td><td>NA</td><td>2 sec.</td><td>Man outside smoking witnesses 3 &amp;quot;dull orange&amp;quot; circular craft streak overhead to west.  Each approx. 1/4 diameter of full moon.</td></tr><tr><th>&vellip;</th><td>&vellip;</td><td>&vellip;</td><td>&vellip;</td><td>&vellip;</td><td>&vellip;</td><td>&vellip;</td></tr></table>"
       ],
       "metadata": {},
       "output_type": "pyout",
       "prompt_number": 4,
       "text": [
        "9742x6 DataFrame\n",
        "| Row  | x1       | x2       | x3                     | x4         |\n",
        "|------|----------|----------|------------------------|------------|\n",
        "| 1    | 19951009 | 19951009 | \"Iowa City, IA\"        | NA         |\n",
        "| 2    | 19951010 | 19951011 | \"Milwaukee, WI\"        | NA         |\n",
        "| 3    | 19950101 | 19950103 | \"Shelton, WA\"          | NA         |\n",
        "| 4    | 19950510 | 19950510 | \"Columbia, MO\"         | NA         |\n",
        "| 5    | 19950611 | 19950614 | \"Seattle, WA\"          | NA         |\n",
        "| 6    | 19951025 | 19951024 | \"Brunswick County, ND\" | NA         |\n",
        "| 7    | 19950420 | 19950419 | \"Fargo, ND\"            | NA         |\n",
        "| 8    | 19950911 | 19950911 | \"Las Vegas, NV\"        | NA         |\n",
        "| 9    | 19950115 | 19950214 | \"Morton, WA\"           | NA         |\n",
        "| 10   | 19950915 | 19950915 | \"Redmond, WA\"          | NA         |\n",
        "| 11   | 19940801 | 19950220 | \"Renton, WA\"           | NA         |\n",
        "\u22ee\n",
        "| 9731 | 20001002 | 20001021 | \"San Antonio, TX\"      | \"light\"    |\n",
        "| 9732 | 20000907 | 20000907 | \"Syracuse, NY\"         | \"triangle\" |\n",
        "| 9733 | 20000930 | 20001006 | \"Phoenix, AZ\"          | \"other\"    |\n",
        "| 9734 | 20000914 | 20000914 | \"Des Moines, IA\"       | \"light\"    |\n",
        "| 9735 | 20001025 | 20001027 | \"Seattle, WA\"          | \"triangle\" |\n",
        "| 9736 | 20001008 | 20001008 | \"Tacoma, WA\"           | \"other\"    |\n",
        "| 9737 | 19990222 | 20001108 | \"Otway, OH\"            | \"other\"    |\n",
        "| 9738 | 20001019 | 20001019 | \"Waxhaw, NC\"           | NA         |\n",
        "| 9739 | 20000926 | 20000926 | \"Palm Springs, CA\"     | \"fireball\" |\n",
        "| 9740 | 20001121 | 20001121 | \"Fauske (Norway),\"     | \"other\"    |\n",
        "| 9741 | 20001008 | 20001106 | \"Chemung, NY\"          | \"other\"    |\n",
        "| 9742 | 20000925 | 20000926 | \"Palatine, IL\"         | \"circle\"   |\n",
        "\n",
        "| Row  | x5            |\n",
        "|------|---------------|\n",
        "| 1    | NA            |\n",
        "| 2    | \"2 min.\"      |\n",
        "| 3    | NA            |\n",
        "| 4    | \"2 min.\"      |\n",
        "| 5    | NA            |\n",
        "| 6    | \"30 min.\"     |\n",
        "| 7    | \"2 min.\"      |\n",
        "| 8    | NA            |\n",
        "| 9    | NA            |\n",
        "| 10   | \"6 min.\"      |\n",
        "| 11   | NA            |\n",
        "\u22ee\n",
        "| 9731 | \"10-15 min\"   |\n",
        "| 9732 | \"5 mins\"      |\n",
        "| 9733 | \"4-5 seconds\" |\n",
        "| 9734 | \":30seconds\"  |\n",
        "| 9735 | \"45 minutes\"  |\n",
        "| 9736 | \"15 minutes\"  |\n",
        "| 9737 | \"20 minutes\"  |\n",
        "| 9738 | \"2sec\"        |\n",
        "| 9739 | \"4 seconds\"   |\n",
        "| 9740 | \"5min\"        |\n",
        "| 9741 | \"5 minutes\"   |\n",
        "| 9742 | \"2-5 min\"     |\n",
        "\n",
        "| Row  | x6                                                                                                                                                                                                                                                                                                                                                                                                                                                                                                                                                                                                                                                                                                                                                                                                                                                                                                                                                                                                                                                                                                                                                                                                                                                                                                                                                                                                                                                                                                                                                                                                                                                                                                                                                                                                                                                                                                                                                                                                                                                                                                                                                                                                                                                                   |\n",
        "|------|----------------------------------------------------------------------------------------------------------------------------------------------------------------------------------------------------------------------------------------------------------------------------------------------------------------------------------------------------------------------------------------------------------------------------------------------------------------------------------------------------------------------------------------------------------------------------------------------------------------------------------------------------------------------------------------------------------------------------------------------------------------------------------------------------------------------------------------------------------------------------------------------------------------------------------------------------------------------------------------------------------------------------------------------------------------------------------------------------------------------------------------------------------------------------------------------------------------------------------------------------------------------------------------------------------------------------------------------------------------------------------------------------------------------------------------------------------------------------------------------------------------------------------------------------------------------------------------------------------------------------------------------------------------------------------------------------------------------------------------------------------------------------------------------------------------------------------------------------------------------------------------------------------------------------------------------------------------------------------------------------------------------------------------------------------------------------------------------------------------------------------------------------------------------------------------------------------------------------------------------------------------------|\n",
        "| 1    | \"Man repts. witnessing &quot;flash, followed by a classic UFO, w/ a tailfin at back.&quot; Red color on top half of tailfin. Became triangular.\"                                                                                                                                                                                                                                                                                                                                                                                                                                                                                                                                                                                                                                                                                                                                                                                                                                                                                                                                                                                                                                                                                                                                                                                                                                                                                                                                                                                                                                                                                                                                                                                                                                                                                                                                                                                                                                                                                                                                                                                                                                                                                                                     |\n",
        "| 2    | \"Man  on Hwy 43 SW of Milwaukee sees large, bright blue light streak by his car, descend, turn, cross road ahead, strobe. Bizarre!\"                                                                                                                                                                                                                                                                                                                                                                                                                                                                                                                                                                                                                                                                                                                                                                                                                                                                                                                                                                                                                                                                                                                                                                                                                                                                                                                                                                                                                                                                                                                                                                                                                                                                                                                                                                                                                                                                                                                                                                                                                                                                                                                                  |\n",
        "| 3    | \"Telephoned Report:CA woman visiting daughter witness discs and triangular ships over Squaxin Island in Puget Sound. Dramatic.  Written report, with illustrations, submitted to NUFORC.\"                                                                                                                                                                                                                                                                                                                                                                                                                                                                                                                                                                                                                                                                                                                                                                                                                                                                                                                                                                                                                                                                                                                                                                                                                                                                                                                                                                                                                                                                                                                                                                                                                                                                                                                                                                                                                                                                                                                                                                                                                                                                            |\n",
        "| 4    | \"Man repts. son&apos;s bizarre sighting of small humanoid creature in back yard.  Reptd. in Acteon Journal, St. Louis UFO newsletter.\"                                                                                                                                                                                                                                                                                                                                                                                                                                                                                                                                                                                                                                                                                                                                                                                                                                                                                                                                                                                                                                                                                                                                                                                                                                                                                                                                                                                                                                                                                                                                                                                                                                                                                                                                                                                                                                                                                                                                                                                                                                                                                                                               |\n",
        "| 5    | \"Anonymous caller repts. sighting 4 ufo&apos;s in NNE sky, 45 deg. above horizon.  (No other facts reptd.  No return tel. #.)\"                                                                                                                                                                                                                                                                                                                                                                                                                                                                                                                                                                                                                                                                                                                                                                                                                                                                                                                                                                                                                                                                                                                                                                                                                                                                                                                                                                                                                                                                                                                                                                                                                                                                                                                                                                                                                                                                                                                                                                                                                                                                                                                                       |\n",
        "| 6    | \"Sheriff&apos;s office calls to rept. that deputy, 20 mi. SSE of Wilmington,  is looking at peculiar, bright white, strobing light.\"                                                                                                                                                                                                                                                                                                                                                                                                                                                                                                                                                                                                                                                                                                                                                                                                                                                                                                                                                                                                                                                                                                                                                                                                                                                                                                                                                                                                                                                                                                                                                                                                                                                                                                                                                                                                                                                                                                                                                                                                                                                                                                                                 |\n",
        "| 7    | \"Female student w/ friend witness huge red light in sky.  2 others witness.  Obj pulsated, started to flicker.  Winked out.\"                                                                                                                                                                                                                                                                                                                                                                                                                                                                                                                                                                                                                                                                                                                                                                                                                                                                                                                                                                                                                                                                                                                                                                                                                                                                                                                                                                                                                                                                                                                                                                                                                                                                                                                                                                                                                                                                                                                                                                                                                                                                                                                                         |\n",
        "| 8    | \"Man repts. bright, multi-colored obj. in NW night sky. Disappeared while he was in house.\"                                                                                                                                                                                                                                                                                                                                                                                                                                                                                                                                                                                                                                                                                                                                                                                                                                                                                                                                                                                                                                                                                                                                                                                                                                                                                                                                                                                                                                                                                                                                                                                                                                                                                                                                                                                                                                                                                                                                                                                                                                                                                                                                                                          |\n",
        "| 9    | \"Woman reports 2 craft fly over house.  Strange events taking place in town w/ paramilitary activities.\"                                                                                                                                                                                                                                                                                                                                                                                                                                                                                                                                                                                                                                                                                                                                                                                                                                                                                                                                                                                                                                                                                                                                                                                                                                                                                                                                                                                                                                                                                                                                                                                                                                                                                                                                                                                                                                                                                                                                                                                                                                                                                                                                                             |\n",
        "| 10   | \"Young man w/ 2 co-workers witness tiny, distinctly white round disc drifting slowly toward NE.  Flew in dir. 90 deg. to winds.\"                                                                                                                                                                                                                                                                                                                                                                                                                                                                                                                                                                                                                                                                                                                                                                                                                                                                                                                                                                                                                                                                                                                                                                                                                                                                                                                                                                                                                                                                                                                                                                                                                                                                                                                                                                                                                                                                                                                                                                                                                                                                                                                                     |\n",
        "| 11   | \"Man repts. seeing 2x large ships hovering in night sky while using Russian-made night binoculars.\"                                                                                                                                                                                                                                                                                                                                                                                                                                                                                                                                                                                                                                                                                                                                                                                                                                                                                                                                                                                                                                                                                                                                                                                                                                                                                                                                                                                                                                                                                                                                                                                                                                                                                                                                                                                                                                                                                                                                                                                                                                                                                                                                                                  |\n",
        "\u22ee\n",
        "| 9731 | \"three bright large lights in sky--loose formation?Three lights, began in equilateral triangle shape but one light moved up after about minutes to make another triangle shape.  Appeared stationary at first but then moved very slowly across sky as a unit.  Lights were as bright and large as a (small) full moon.  Have deep-space binoculars but wasn&apos;t able to achieve any better definition in shape of objects (but couldn&apos;t find glasses, do, don&apos;t know.)  Heavy cloud-cover; lost sight of lights due to clouds.  Soundless.  Live on flight path from airport and have seen numerous planes at numerous altitudes--weren&apos;t planes.  Satellites, maybe?  Not a technical person; can&apos;t estimate altitude, sorry.((NUFORC Note:  We do not know what &quot;2600&quot; hrs. represents.\"                                                                                                                                                                                                                                                                                                                                                                                                                                                                                                                                                                                                                                                                                                                                                                                                                                                                                                                                                                                                                                                                                                                                                                                                                                                                                                                                                                                                                                         |\n",
        "| 9732 | \"I was on I-90 30, miles west of Syracuse, NY when I saw a very big bright light in the distance. As I got closer to it over the course of the next few minutes I saw it was a very large triangular object, moving very slowly East Northeast....the front light was white and very bright the rear two points of the triangle were not as bright and were blinking on and off in unison, very slowly. The lights formed a perfect triangle and were about 1,000 feet over the ground. I then saw another object, exactly the same as the first traveling the same direction about a mile or two behind the first. I did everything I could to tell myself it was just a couple of aircraft in formation but after watching these objects for SO long (5 mins or more) I was sure it was not aircraft.((NUFORC Note:  We spoke on the telephone with this witness and found him to be seemingly quite credible in his report.  The objects seemed to be moving, since they moved from the south side of the highway to the north during the time that the witness has them in sight.  PD))\"                                                                                                                                                                                                                                                                                                                                                                                                                                                                                                                                                                                                                                                                                                                                                                                                                                                                                                                                                                                                                                                                                                                                                                         |\n",
        "| 9733 | \"Phoenix Blue/white Astroid????It was very dark as my son and I prepared to get ready to change over to night fishing at a lake called Pleasent aprox. 50 miles due north of Phoenix. My son said Dad at least 3 quick times,(my son is 23) to draw my attention to the object that had lighted up south of our location. I turned around very quickley to see a very bright white/blue object of great size traveling at a speed that my son and I agreed would see the object fall to earth very soon ( in fact I kept looking to see a mushroom cloud rise above the hills to our west) there was no cloud nor any sound at all. The object appeared to me to be almost square in size, lile a cube, picture a square moving left to right, now cut into fourths, remove the lower left square and slide it to the left and down to leave a equal gap you&apos;ll see a 7, with a square following at the same speed. The object was bright enough to light the lake and the hills around us, it&apos;s colors were like a cutting tourch used for cutting steel (in fact the trailing sparks were brighter than steel being cut by a cutting tourch, the sparks trailed the object by about three times its size. The size of the object was hard to figure, but with the skyline of the city &amp; lights to guage, the object was huge, I would say more that a a mile or two across or cubed.  It was approximately 40 to 45 degrees above the south horizon, and was not traveling at the speed of a metorite, it was as a slower astroid would travel. the direction was east to west, in fact I was thinking to myself that california would now have another disaster to bare. there was no sound or vibrations, there was no blinking lights, there was only white, blue and some orange hues in the short tail, the object only went in a straight line, no turns, but almost a failing arc to the west (thus, our thinking that it would fall in west Arizona or eastern California. The exact time is hard for us to pin down, we were with out watches, We are thinking that with the sundown not too far behind and our best guessing it was around 8 PM.((NUFORC Note:  Please see other report for this time period.  Very dramatic event.  PD))\" |\n",
        "| 9734 | \"It was a round star object that went straight then zig zagged.I observed one star looking craft flying across the sky in a straight line. the object then zig zagged and then dissappeared into the sky. The object was round and looked like a star. It was white in color.\"                                                                                                                                                                                                                                                                                                                                                                                                                                                                                                                                                                                                                                                                                                                                                                                                                                                                                                                                                                                                                                                                                                                                                                                                                                                                                                                                                                                                                                                                                                                                                                                                                                                                                                                                                                                                                                                                                                                                                                                       |\n",
        "| 9735 | \"Sparkling contrails in triangle pattern.My husband and I were up on our roof having a smoke when a strobe light caught our eyes. A few seconds later, we saw several faint stobes coming from a single point in the sky. At first we thought it might have been klieg lights, but it became obvious that these beams of light were not originating from the ground. They all came from within a single point up in the sky.  While staring up, we also saw three contrails (not sure they were actually contrails, but that is what they looked like) that formed a PERFECT triangular shape - even stranger, the contrails appeared to be sparkling as though they were electrically charged.  There were light clouds in the sky that formed an almost perfect circle around the perimeter of the sparkling triangle, and they were distorted as though heat waves were emanating through them. The size of this circle was about 3 or 4 city blocks. At this point, I became very frightened and ran downstairs to call the UFO hotline. I went back upstairs about 20 minutes later and the sparkling contrails were still there and still shaped like a perfect triangle, but the clouds were gone. We took a picture with a digital camera, but sadly, nothing showed up in the photo.  After about 10 minutes, the whole thing disappeared.  We were perfectly sober when we made this observation.  We are still trying to speculate what we may have seen - military camouflage technology? weather techology? I would be interested in knowing if others saw it.\"                                                                                                                                                                                                                                                                                                                                                                                                                                                                                                                                                                                                                                                                                         |\n",
        "| 9736 | \"black, worm-shaped object drifting northwest just below cloud level at 16:45 on October 8.i am a student at the university of puget sound and i was sitting at the kitchen table in our house in the north end of tacoma working on homework.  i looked out the kitchen window and saw a fleck in the sky that looked like the mark on a photographic enlargement when lint has been left on the negative.  i went out onto our back porch and watched a black, matte object drift silently closer.  it slowly changed shape as it moved (at about the same speed as the clouds) from south to northeast.  its form was constant, a tube shape (ROUGH estimate) perhaps about thirty feet in length that gradually changed shape from a &apos;u&apos; to almost a ninety degree angle to a long, flat shape with one end sticking up.  it was probably at least one foot in diameter, or as big around as a basketball (also very ROUGH guess).  at one point, when most of it was flat and one end was sticking up, it looked like the fuselage and vertical stabilizer of a plane&apos;s silhouette and i thought my eyes were just playing tricks on me.  however, as the object got closer, it continued to change shape.  it was drifing along, made no noise and didn&apos;t perceptibly change height.  i estimated that it was floating at about the same height a small, private plane would cruise, but soon after, a small, single-engine plane flew below it and i realized that it was half-again that high.  it looked like a long, black water worm (long, styrofoam flotations toys kids use in pools) that was being manipulated by the breeze to form different shapes.  i only saw one object and watched it for about 15 minutes before it disappeared (either into the clouds or from distance i couldn&apos;t tell).\"                                                                                                                                                                                                                                                                                                                                                                                                                         |\n",
        "| 9737 | \"My girlfriend and I were just leaving to go out of town, when I noticed two large glowing  orbs above my  small lake. They seemed to just hover there. We watch them for a good ten minutes until they stared to move away. One was about 150 feet across while the other was about 100 feet across.We new we had to follow to see which direction they were headed. We followed down the mountain I live on and continued to keep visual  contact with these two orbs . They seemed to be several miles away from us.The roads in my area are very snakey andup and down hilly areas. We were still able to keep them in sight for a good half an hour. When we reach St Rt.32 They seem to pick up speed and in North-East direction was lost  in the dark nite skys. The nite was clear and it was a cold  calm nite for the records .\"                                                                                                                                                                                                                                                                                                                                                                                                                                                                                                                                                                                                                                                                                                                                                                                                                                                                                                                                                                                                                                                                                                                                                                                                                                                                                                                                                                                                                          |\n",
        "| 9738 | \"Bright light moves in 90 degree directionI saw a bright white line streak to the NE, not a straight line. It had a wiggle to it. It then took an abrupt 90 degree turn to the North and disappeared from site.\"                                                                                                                                                                                                                                                                                                                                                                                                                                                                                                                                                                                                                                                                                                                                                                                                                                                                                                                                                                                                                                                                                                                                                                                                                                                                                                                                                                                                                                                                                                                                                                                                                                                                                                                                                                                                                                                                                                                                                                                                                                                     |\n",
        "| 9739 | \"Brilliant Green Fireball moves slowly from high in the SE to low in the SWI have often heard you talk about brilliant green flashes of light seen in the sky. Tonight I saw mine! at 8:13pm Pacific... it moved for about 4 seconds from high in the south east to low in the southwest... I&apos;m in Palm Springs looking out my office window facing south... Very big... about half the size of a full moon... or just hold you thumb out in front of you... it was at least as big as your thumbnail. Brilliant lime green color... breaking apart as it moved across and down... leaving little miniature versions of itself in it&apos;s wake turning yellow then red and orange. The tail was long... about the length of your index finger stretched out in front of you. I watched it disappear behind the Horizon to the west... which here in Palm Springs is the San Jacinto Mountains... to the west.  Very spectacular... thought you might want to compare with other sightings.\"                                                                                                                                                                                                                                                                                                                                                                                                                                                                                                                                                                                                                                                                                                                                                                                                                                                                                                                                                                                                                                                                                                                                                                                                                                                                   |\n",
        "| 9740 | \"What was it?The two objects was flying just above a mountain when the smallest of them dissapeared,i couldnt see were it had gone so i looked at the other one. The other kept on flying higher up in the air. When it reached a certain height it started flying flat over the observation point. When it laid this way i could beter see it, it had a tail of smoke wich was about 5 times as long as it and in front you could  see a litle red light flashing. Then the object just dissapeared like the first. Could this be a rocket or a meteor?\"                                                                                                                                                                                                                                                                                                                                                                                                                                                                                                                                                                                                                                                                                                                                                                                                                                                                                                                                                                                                                                                                                                                                                                                                                                                                                                                                                                                                                                                                                                                                                                                                                                                                                                            |\n",
        "| 9741 | \"contact informationreported ufo sighting in chemung ny on october 8th I have been in contact with local ufo investigater for chemung county. just read my report and saw it said &quot;anonymous&quot; I would like to be contacted by any one with information concerning the sighting. thank you ((name deleted))\"                                                                                                                                                                                                                                                                                                                                                                                                                                                                                                                                                                                                                                                                                                                                                                                                                                                                                                                                                                                                                                                                                                                                                                                                                                                                                                                                                                                                                                                                                                                                                                                                                                                                                                                                                                                                                                                                                                                                                |\n",
        "| 9742 | \"round black object hovering over line of treesSitting in slow-moving traffic going north on Algonquin Rd. I looked towards the sky and off in the distance, above a line of trees, I can&apos;t guess how high, saw a round dark circle, not moving for at least a minute, then I lost sight of it for a moment going past a sign along the road, and when I saw it again, it had gained in altitude by sev\"                                                                                                                                                                                                                                                                                                                                                                                                                                                                                                                                                                                                                                                                                                                                                                                                                                                                                                                                                                                                                                                                                                                                                                                                                                                                                                                                                                                                                                                                                                                                                                                                                                                                                                                                                                                                                                                        |"
       ]
      }
     ],
     "prompt_number": 4
    },
    {
     "cell_type": "code",
     "collapsed": false,
     "input": [
      "head(df)"
     ],
     "language": "python",
     "metadata": {},
     "outputs": [
      {
       "html": [
        "<table class=\"data-frame\"><tr><th></th><th>x1</th><th>x2</th><th>x3</th><th>x4</th><th>x5</th><th>x6</th></tr><tr><th>1</th><td>19951009</td><td>19951009</td><td>Iowa City, IA</td><td>NA</td><td>NA</td><td>Man repts. witnessing &amp;quot;flash, followed by a classic UFO, w/ a tailfin at back.&amp;quot; Red color on top half of tailfin. Became triangular.</td></tr><tr><th>2</th><td>19951010</td><td>19951011</td><td>Milwaukee, WI</td><td>NA</td><td>2 min.</td><td>Man  on Hwy 43 SW of Milwaukee sees large, bright blue light streak by his car, descend, turn, cross road ahead, strobe. Bizarre!</td></tr><tr><th>3</th><td>19950101</td><td>19950103</td><td>Shelton, WA</td><td>NA</td><td>NA</td><td>Telephoned Report:CA woman visiting daughter witness discs and triangular ships over Squaxin Island in Puget Sound. Dramatic.  Written report, with illustrations, submitted to NUFORC.</td></tr><tr><th>4</th><td>19950510</td><td>19950510</td><td>Columbia, MO</td><td>NA</td><td>2 min.</td><td>Man repts. son&amp;apos;s bizarre sighting of small humanoid creature in back yard.  Reptd. in Acteon Journal, St. Louis UFO newsletter.</td></tr><tr><th>5</th><td>19950611</td><td>19950614</td><td>Seattle, WA</td><td>NA</td><td>NA</td><td>Anonymous caller repts. sighting 4 ufo&amp;apos;s in NNE sky, 45 deg. above horizon.  (No other facts reptd.  No return tel. #.)</td></tr><tr><th>6</th><td>19951025</td><td>19951024</td><td>Brunswick County, ND</td><td>NA</td><td>30 min.</td><td>Sheriff&amp;apos;s office calls to rept. that deputy, 20 mi. SSE of Wilmington,  is looking at peculiar, bright white, strobing light.</td></tr></table>"
       ],
       "metadata": {},
       "output_type": "pyout",
       "prompt_number": 5,
       "text": [
        "6x6 DataFrame\n",
        "| Row | x1       | x2       | x3                     | x4 | x5        |\n",
        "|-----|----------|----------|------------------------|----|-----------|\n",
        "| 1   | 19951009 | 19951009 | \"Iowa City, IA\"        | NA | NA        |\n",
        "| 2   | 19951010 | 19951011 | \"Milwaukee, WI\"        | NA | \"2 min.\"  |\n",
        "| 3   | 19950101 | 19950103 | \"Shelton, WA\"          | NA | NA        |\n",
        "| 4   | 19950510 | 19950510 | \"Columbia, MO\"         | NA | \"2 min.\"  |\n",
        "| 5   | 19950611 | 19950614 | \"Seattle, WA\"          | NA | NA        |\n",
        "| 6   | 19951025 | 19951024 | \"Brunswick County, ND\" | NA | \"30 min.\" |\n",
        "\n",
        "| Row | x6                                                                                                                                                                                        |\n",
        "|-----|-------------------------------------------------------------------------------------------------------------------------------------------------------------------------------------------|\n",
        "| 1   | \"Man repts. witnessing &quot;flash, followed by a classic UFO, w/ a tailfin at back.&quot; Red color on top half of tailfin. Became triangular.\"                                          |\n",
        "| 2   | \"Man  on Hwy 43 SW of Milwaukee sees large, bright blue light streak by his car, descend, turn, cross road ahead, strobe. Bizarre!\"                                                       |\n",
        "| 3   | \"Telephoned Report:CA woman visiting daughter witness discs and triangular ships over Squaxin Island in Puget Sound. Dramatic.  Written report, with illustrations, submitted to NUFORC.\" |\n",
        "| 4   | \"Man repts. son&apos;s bizarre sighting of small humanoid creature in back yard.  Reptd. in Acteon Journal, St. Louis UFO newsletter.\"                                                    |\n",
        "| 5   | \"Anonymous caller repts. sighting 4 ufo&apos;s in NNE sky, 45 deg. above horizon.  (No other facts reptd.  No return tel. #.)\"                                                            |\n",
        "| 6   | \"Sheriff&apos;s office calls to rept. that deputy, 20 mi. SSE of Wilmington,  is looking at peculiar, bright white, strobing light.\"                                                      |"
       ]
      }
     ],
     "prompt_number": 5
    },
    {
     "cell_type": "code",
     "collapsed": false,
     "input": [
      "names!(df, [symbol(\"DateOccurred\"), symbol(\"DateReported\"), symbol(\"Location\"), symbol(\"ShortDescription\"), symbol(\"Duration\"), symbol(\"LongDescription\")])\n",
      "describe(df)"
     ],
     "language": "python",
     "metadata": {},
     "outputs": [
      {
       "output_type": "stream",
       "stream": "stdout",
       "text": [
        "DateOccurred\n",
        "Min      0.0\n",
        "1st Qu.  1.9951118e7\n",
        "Median   1.9981016e7\n",
        "Mean     1.9660998706528433e7\n",
        "3rd Qu.  1.999111e7\n",
        "Max      2.0001229e7\n",
        "NAs      0\n",
        "NA%      0.0%\n",
        "\n",
        "DateReported\n",
        "Min      1.9950101e7\n",
        "1st Qu.  1.998052e7\n",
        "Median   1.9990626e7\n",
        "Mean     1.9985497653664544e7\n",
        "3rd Qu.  2.0000209e7\n",
        "Max      2.0001122e7\n",
        "NAs      0\n",
        "NA%      0.0%\n",
        "\n",
        "Location\n",
        "Length  9742\n",
        "Type    UTF8String\n",
        "NAs     0\n",
        "NA%     0.0%\n",
        "Unique  5772\n",
        "\n",
        "ShortDescription\n",
        "Length  9742\n",
        "Type    UTF8String\n",
        "NAs     1405\n",
        "NA%     14.42%\n",
        "Unique  30\n",
        "\n",
        "Duration\n",
        "Length  9742\n",
        "Type    UTF8String\n",
        "NAs     603\n",
        "NA%     6.19%\n",
        "Unique  2515\n",
        "\n",
        "LongDescription\n",
        "Length  9742\n",
        "Type    UTF8String\n",
        "NAs     1\n",
        "NA%     0.01%\n",
        "Unique  9740\n",
        "\n"
       ]
      }
     ],
     "prompt_number": 6
    },
    {
     "cell_type": "code",
     "collapsed": false,
     "input": [
      "using Dates\n",
      "dateOccurred = map((x) -> string(x), df[:DateOccurred])\n",
      "dateReported = map((x) -> string(x), df[:DateReported])\n",
      "df[:DateOccurred] = map((x) -> if match(r\"^((19|20)\\d\\d)(0[1-9]|1[012])(0[1-9]|[12][0-9]|3[01])\", x)!=nothing Dates.Date(x, \"yyyymmdd\") end, dateOccurred)\n",
      "df[:DateReported] = map((x) -> if match(r\"^((19|20)\\d\\d)(0[1-9]|1[012])(0[1-9]|[12][0-9]|3[01])\", x)!=nothing Dates.Date(x, \"yyyymmdd\") end, dateReported)"
     ],
     "language": "python",
     "metadata": {},
     "outputs": [
      {
       "metadata": {},
       "output_type": "pyout",
       "prompt_number": 7,
       "text": [
        "9742-element DataArray{Any,1}:\n",
        " 1995-10-09\n",
        " 1995-10-11\n",
        " 1995-01-03\n",
        " 1995-05-10\n",
        " 1995-06-14\n",
        " 1995-10-24\n",
        " 1995-04-19\n",
        " 1995-09-11\n",
        " 1995-02-14\n",
        " 1995-09-15\n",
        " 1995-02-20\n",
        " 1995-07-24\n",
        " 1995-06-12\n",
        " \u22ee         \n",
        " 2000-10-21\n",
        " 2000-09-07\n",
        " 2000-10-06\n",
        " 2000-09-14\n",
        " 2000-10-27\n",
        " 2000-10-08\n",
        " 2000-11-08\n",
        " 2000-10-19\n",
        " 2000-09-26\n",
        " 2000-11-21\n",
        " 2000-11-06\n",
        " 2000-09-26"
       ]
      }
     ],
     "prompt_number": 7
    },
    {
     "cell_type": "code",
     "collapsed": false,
     "input": [],
     "language": "python",
     "metadata": {},
     "outputs": [],
     "prompt_number": 8
    },
    {
     "cell_type": "code",
     "collapsed": false,
     "input": [],
     "language": "python",
     "metadata": {},
     "outputs": [],
     "prompt_number": 9
    }
   ],
   "metadata": {}
  }
 ]
}